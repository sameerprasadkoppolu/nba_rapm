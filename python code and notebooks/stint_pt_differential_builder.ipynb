{
 "cells": [
  {
   "cell_type": "code",
   "execution_count": null,
   "metadata": {
    "id": "MPuiKU74P4t0"
   },
   "outputs": [],
   "source": [
    "from nba_api.stats.endpoints import leaguegamelog, gamerotation, playbyplayv3\n",
    "import pandas as pd\n",
    "import numpy as np\n",
    "from tqdm import tqdm\n",
    "import time"
   ]
  },
  {
   "cell_type": "code",
   "execution_count": null,
   "metadata": {
    "id": "w4ae4WNZSkyB"
   },
   "outputs": [],
   "source": [
    "# from nba_api.stats.static import teams\n",
    "\n",
    "# nba_teams = teams.get_teams()\n",
    "# # Select the dictionary for the Celtics, which contains their team ID\n",
    "# celtics = [team for team in nba_teams if team['abbreviation'] == 'BOS'][0]\n",
    "# celtics_id = celtics['id']"
   ]
  },
  {
   "cell_type": "markdown",
   "metadata": {},
   "source": [
    "# Get Games in a Season"
   ]
  },
  {
   "cell_type": "code",
   "execution_count": null,
   "metadata": {
    "id": "TQ4dfa-mVyYF"
   },
   "outputs": [],
   "source": [
    "# from nba_api.stats.endpoints import leaguegamefinder\n",
    "\n",
    "# # Query for games where the Celtics were playing\n",
    "# gamefinder = leaguegamefinder.LeagueGameFinder(team_id_nullable=celtics_id)\n",
    "# # The first DataFrame of those returned is what we want.\n",
    "# games = gamefinder.get_data_frames()[0]\n",
    "# games.head()"
   ]
  },
  {
   "cell_type": "code",
   "execution_count": null,
   "metadata": {
    "id": "k9M3fwoGV8JS"
   },
   "outputs": [],
   "source": [
    "games_df = leaguegamelog.LeagueGameLog(player_or_team_abbreviation = 'T', season = '2023-24', season_type_all_star = 'Regular Season').get_data_frames()[0]\n",
    "games_df.head()"
   ]
  },
  {
   "cell_type": "markdown",
   "metadata": {},
   "source": [
    "# Get Rotation for a Given Game"
   ]
  },
  {
   "cell_type": "code",
   "execution_count": null,
   "metadata": {
    "colab": {
     "base_uri": "https://localhost:8080/",
     "height": 495
    },
    "id": "xZw_tIIDWUY9",
    "outputId": "d20021ee-3289-45f4-a1fa-68c13521bf25"
   },
   "outputs": [],
   "source": [
    "ht_rotation = gamerotation.GameRotation(game_id = games_df.GAME_ID[0]).get_data_frames()[1]\n",
    "ht_rotation['home_away_flg'] = 'H'\n",
    "at_rotation = gamerotation.GameRotation(game_id = games_df.GAME_ID[0]).get_data_frames()[0]\n",
    "at_rotation['home_away_flg'] = 'A'\n",
    "rotation_df = pd.concat([ht_rotation, at_rotation])\n",
    "rotation_df.head()"
   ]
  },
  {
   "cell_type": "code",
   "execution_count": null,
   "metadata": {
    "colab": {
     "base_uri": "https://localhost:8080/",
     "height": 206
    },
    "id": "eZNWEYjWWoN9",
    "outputId": "8b65b8aa-a2af-4927-99cf-3bb064bd488c"
   },
   "outputs": [],
   "source": [
    "rotation_df = rotation_df.sort_values(by = ['IN_TIME_REAL', 'OUT_TIME_REAL'], ascending = [True, True])\n",
    "rotation_df = rotation_df.reset_index(drop = True)\n",
    "rotation_df['IN_TIME_REAL'] = np.ceil(rotation_df['IN_TIME_REAL']/10)\n",
    "rotation_df['OUT_TIME_REAL'] = np.ceil(rotation_df['OUT_TIME_REAL']/10)\n",
    "rotation_df.head()"
   ]
  },
  {
   "cell_type": "markdown",
   "metadata": {},
   "source": [
    "# Get PBP Stats for a Given Game"
   ]
  },
  {
   "cell_type": "code",
   "execution_count": null,
   "metadata": {
    "colab": {
     "base_uri": "https://localhost:8080/",
     "height": 270
    },
    "id": "Fz35rImuXI4_",
    "outputId": "524235d6-22f5-438f-e917-ad6a24b04258"
   },
   "outputs": [],
   "source": [
    "pbp = playbyplayv3.PlayByPlayV3(game_id = games_df.GAME_ID[0]).get_data_frames()[0]\n",
    "pbp.head()"
   ]
  },
  {
   "cell_type": "markdown",
   "metadata": {},
   "source": [
    "## Calculate Game Breakpoints"
   ]
  },
  {
   "cell_type": "code",
   "execution_count": null,
   "metadata": {
    "colab": {
     "base_uri": "https://localhost:8080/"
    },
    "id": "2oOegJGpx63I",
    "outputId": "e0270ef1-f387-480a-fc65-b47449c671a7"
   },
   "outputs": [],
   "source": [
    "breakpoints = sorted(set(rotation_df['IN_TIME_REAL']).union(set(rotation_df['OUT_TIME_REAL'])))\n",
    "breakpoints"
   ]
  },
  {
   "cell_type": "code",
   "execution_count": null,
   "metadata": {},
   "outputs": [],
   "source": [
    "len(breakpoints)"
   ]
  },
  {
   "cell_type": "markdown",
   "metadata": {},
   "source": [
    "## Calculate Stints and Point Differential"
   ]
  },
  {
   "cell_type": "code",
   "execution_count": null,
   "metadata": {
    "colab": {
     "base_uri": "https://localhost:8080/",
     "height": 979
    },
    "id": "ZbXK7J6VmldG",
    "outputId": "64c84609-5478-432b-a565-ce1cd3dc9dfc",
    "scrolled": true
   },
   "outputs": [],
   "source": [
    "#Get Actual Point Differential\n",
    "pbp['time_completed'] = ((pbp['period']-1) * 12*60) + ((12*60) - pbp['clock'].str[2:4].astype(float)*60 - pbp['clock'].str[5:7].astype(float))\n",
    "pbp_formatted = pbp[['clock', 'time_completed', 'scoreHome', 'scoreAway', 'description', 'actionType']].copy()\n",
    "pbp_formatted['scoreHome'].replace('', np.nan, inplace = True)\n",
    "pbp_formatted['scoreAway'].replace('', np.nan, inplace = True)\n",
    "pbp_formatted['scoreHome'].fillna(method = 'ffill', inplace = True)\n",
    "pbp_formatted['scoreAway'].fillna(method = 'ffill', inplace = True)\n",
    "\n",
    "pbp_formatted['scoreHome'] = pbp_formatted['scoreHome'].astype(int)\n",
    "pbp_formatted['scoreAway'] = pbp_formatted['scoreAway'].astype(int)\n",
    "\n",
    "\n",
    "\n",
    "\n",
    "pbp_formatted['STINT_START_TIME'] = pbp_formatted['time_completed'].shift(1)\n",
    "pbp_formatted['STINT_START_TIME'] = pbp_formatted['STINT_START_TIME'].fillna(0)\n",
    "\n",
    "pbp_formatted.rename(columns = {'time_completed': 'STINT_END_TIME'}, inplace = True)\n",
    "pbp_formatted = pbp_formatted.loc[pbp_formatted['STINT_END_TIME'].isin(breakpoints)]\n",
    "\n",
    "\n",
    "pt_diff_df = pd.DataFrame(columns = ['STINT_START_TIME', 'STINT_END_TIME', 'PT_DIFF'])\n",
    "\n",
    "for i in range(len(breakpoints) - 1):\n",
    "    t = breakpoints[i]\n",
    "    t_plus_1 = breakpoints[i+1]\n",
    "\n",
    "    temp = pbp_formatted.loc[(pbp_formatted['STINT_START_TIME'] >= t) & (pbp_formatted['STINT_END_TIME'] <= t_plus_1)]\n",
    "    res = pd.DataFrame(columns = ['STINT_START_TIME', 'STINT_END_TIME', 'PT_DIFF'])\n",
    "\n",
    "    res.loc[0, 'STINT_START_TIME'] = t \n",
    "    res.loc[0, 'STINT_END_TIME'] = t_plus_1\n",
    "\n",
    "    diff = 0\n",
    "\n",
    "    if t == 0:\n",
    "        diff = np.max(temp['scoreHome']) - np.max(temp['scoreAway'])\n",
    "    \n",
    "    else:\n",
    "        end_home_score = temp.loc[(temp['STINT_END_TIME'] == t_plus_1) & (temp['actionType'].isin(['Substitution', 'period']))]['scoreHome'].values[0]\n",
    "        end_away_score = temp.loc[(temp['STINT_END_TIME'] == t_plus_1) & (temp['actionType'].isin(['Substitution', 'period']))]['scoreAway'].values[0]\n",
    "        # diff = (np.max(temp['scoreHome']) - np.min(temp['scoreHome'])) - (np.max(temp['scoreAway']) - np.min(temp['scoreAway']))\n",
    "        diff = (end_home_score - np.min(temp['scoreHome'])) - (end_away_score - np.min(temp['scoreAway']))\n",
    "    \n",
    "    res.loc[0, 'PT_DIFF'] = diff \n",
    "\n",
    "    pt_diff_df = pd.concat([pt_diff_df, res], axis = 0)\n",
    "    pt_diff_df = pt_diff_df.reset_index(drop = True)\n",
    "\n",
    "pt_diff_df"
   ]
  },
  {
   "cell_type": "markdown",
   "metadata": {},
   "source": [
    "# Get In-Time and Out-Time for each Player"
   ]
  },
  {
   "cell_type": "code",
   "execution_count": null,
   "metadata": {
    "colab": {
     "base_uri": "https://localhost:8080/"
    },
    "id": "4xlk2PQ3ahqX",
    "outputId": "472237ba-ec31-4cf8-ed74-ce8023c4a130"
   },
   "outputs": [],
   "source": [
    "players = list(set(rotation_df.PERSON_ID))\n",
    "# players = ['PERSON_ID_'+str(i) for i in players]\n",
    "players"
   ]
  },
  {
   "cell_type": "code",
   "execution_count": null,
   "metadata": {
    "id": "J3rchB0YaDoX",
    "scrolled": true
   },
   "outputs": [],
   "source": [
    "player_id_cols = ['PERSON_ID_'+str(p) for p in players]\n",
    "player_flags_df = pd.get_dummies(rotation_df, columns = ['PERSON_ID'], dtype = int).copy()\n",
    "player_flags_df = player_flags_df.groupby(['IN_TIME_REAL', 'OUT_TIME_REAL'])[player_id_cols].sum().reset_index()\n",
    "player_flags_df"
   ]
  },
  {
   "cell_type": "markdown",
   "metadata": {},
   "source": [
    "# Final Stint-wise Point Differential DataFrame"
   ]
  },
  {
   "cell_type": "code",
   "execution_count": null,
   "metadata": {
    "colab": {
     "base_uri": "https://localhost:8080/",
     "height": 963
    },
    "id": "qd10Hs24iVHG",
    "outputId": "22edcf8d-c8ff-43df-a5fd-20bb290ce236",
    "scrolled": true
   },
   "outputs": [],
   "source": [
    "final_stints_df = pd.DataFrame(columns = ['STINT_START_TIME', 'STINT_END_TIME'] + players + ['PT_DIFF'])\n",
    "\n",
    "for i in tqdm(range(len(breakpoints) - 1)):\n",
    "  t = breakpoints[i]\n",
    "  t_plus_1 = breakpoints[i+1]\n",
    "  stint_players = rotation_df.loc[(rotation_df['IN_TIME_REAL'] <= t) & (rotation_df['OUT_TIME_REAL'] > t)][['PERSON_ID']].values.flatten().tolist()\n",
    "  home_away_flgs = rotation_df.loc[(rotation_df['IN_TIME_REAL'] <= t) & (rotation_df['OUT_TIME_REAL'] > t)][['home_away_flg']].values.tolist()\n",
    "  # pt_diff = stints_df.loc[(stints_df['STINT_START_TIME_FIXED'] == t) & (stints_df['STINT_END_TIME'] == t_plus_1)]['PT_DIFF'].sum()\n",
    "  pt_diff = pt_diff_df.loc[(pt_diff_df['STINT_START_TIME'] == t) & (pt_diff_df['STINT_END_TIME'] == t_plus_1)]['PT_DIFF'].values[0]\n",
    "\n",
    "  X = pd.DataFrame(columns = ['STINT_START_TIME', 'STINT_END_TIME'] + players + ['PT_DIFF'])\n",
    "  X.loc[0, 'STINT_START_TIME'] = t\n",
    "  X.loc[0, 'STINT_END_TIME'] = t_plus_1\n",
    "  X.loc[0, 'PT_DIFF'] = pt_diff\n",
    "\n",
    "  for player in players:\n",
    "    if player in stint_players:\n",
    "      if home_away_flgs[stint_players.index(player)] == 'H':\n",
    "        X.loc[0, player] = 1\n",
    "      else:\n",
    "        X.loc[0, player] = -1\n",
    "    else:\n",
    "      X.loc[0, player] = 0\n",
    "\n",
    "  final_stints_df = pd.concat([final_stints_df, X], axis = 0)\n",
    "\n",
    "final_stints_df = final_stints_df.reset_index(drop = True)\n",
    "final_stints_df"
   ]
  },
  {
   "cell_type": "code",
   "execution_count": null,
   "metadata": {},
   "outputs": [],
   "source": [
    "np.sum(final_stints_df['PT_DIFF'])"
   ]
  },
  {
   "cell_type": "markdown",
   "metadata": {},
   "source": [
    "# Scraping Definition"
   ]
  },
  {
   "cell_type": "markdown",
   "metadata": {},
   "source": [
    "## GameLog to GameID"
   ]
  },
  {
   "cell_type": "code",
   "execution_count": null,
   "metadata": {},
   "outputs": [],
   "source": [
    "def gamelog_gameid(szn:str):\n",
    "    X = leaguegamelog.LeagueGameLog(player_or_team_abbreviation = 'T', season = szn, season_type_all_star = 'Regular Season').get_data_frames()[0]\n",
    "    return X, set(X['GAME_ID'])"
   ]
  },
  {
   "cell_type": "code",
   "execution_count": null,
   "metadata": {
    "scrolled": true
   },
   "outputs": [],
   "source": [
    "gamelog_gameid('2024-25')"
   ]
  },
  {
   "cell_type": "markdown",
   "metadata": {},
   "source": [
    "## Rotation Based on GameID"
   ]
  },
  {
   "cell_type": "code",
   "execution_count": null,
   "metadata": {},
   "outputs": [],
   "source": [
    "def get_rotation(game_id:str):\n",
    "    ht_rotation = gamerotation.GameRotation(game_id = game_id).get_data_frames()[1]\n",
    "    ht_rotation['home_away_flg'] = 'H'\n",
    "    at_rotation = gamerotation.GameRotation(game_id = game_id).get_data_frames()[0]\n",
    "    at_rotation['home_away_flg'] = 'A'\n",
    "    rotation_df = pd.concat([ht_rotation, at_rotation])\n",
    "    rotation_df = rotation_df.sort_values(by = ['IN_TIME_REAL', 'OUT_TIME_REAL'], ascending = [True, True])\n",
    "    rotation_df = rotation_df.reset_index(drop = True)\n",
    "    rotation_df['IN_TIME_REAL'] = np.ceil(rotation_df['IN_TIME_REAL']/10)\n",
    "    rotation_df['OUT_TIME_REAL'] = np.ceil(rotation_df['OUT_TIME_REAL']/10)\n",
    "\n",
    "    #Calc. Breakpoints\n",
    "    breakpoints = sorted(set(rotation_df['IN_TIME_REAL']).union(set(rotation_df['OUT_TIME_REAL'])))\n",
    "\n",
    "    return rotation_df, breakpoints"
   ]
  },
  {
   "cell_type": "code",
   "execution_count": null,
   "metadata": {
    "scrolled": true
   },
   "outputs": [],
   "source": [
    "rotation_df, breakpoints = get_rotation('0022400061')"
   ]
  },
  {
   "cell_type": "code",
   "execution_count": null,
   "metadata": {},
   "outputs": [],
   "source": [
    "breakpoints"
   ]
  },
  {
   "cell_type": "markdown",
   "metadata": {},
   "source": [
    "## Stints and Point Differential from PBP Data"
   ]
  },
  {
   "cell_type": "code",
   "execution_count": null,
   "metadata": {},
   "outputs": [],
   "source": [
    "def get_stints_pt_diff(game_id:str, breakpoints:list):\n",
    "    pbp = playbyplayv3.PlayByPlayV3(game_id = game_id).get_data_frames()[0]\n",
    "\n",
    "    #Get Actual Point Differential\n",
    "    pbp['time_completed'] = ((pbp['period']-1) * 12*60) + ((12*60) - pbp['clock'].str[2:4].astype(float)*60 - pbp['clock'].str[5:7].astype(float))\n",
    "    pbp_formatted = pbp[['clock', 'time_completed', 'scoreHome', 'scoreAway', 'description', 'actionType']].copy()\n",
    "    pbp_formatted['scoreHome'].replace('', np.nan, inplace = True)\n",
    "    pbp_formatted['scoreAway'].replace('', np.nan, inplace = True)\n",
    "    pbp_formatted['scoreHome'].fillna(method = 'ffill', inplace = True)\n",
    "    pbp_formatted['scoreAway'].fillna(method = 'ffill', inplace = True)\n",
    "    \n",
    "    pbp_formatted['scoreHome'] = pbp_formatted['scoreHome'].astype(int)\n",
    "    pbp_formatted['scoreAway'] = pbp_formatted['scoreAway'].astype(int)\n",
    "    \n",
    "    \n",
    "    \n",
    "    \n",
    "    pbp_formatted['STINT_START_TIME'] = pbp_formatted['time_completed'].shift(1)\n",
    "    pbp_formatted['STINT_START_TIME'] = pbp_formatted['STINT_START_TIME'].fillna(0)\n",
    "    \n",
    "    pbp_formatted.rename(columns = {'time_completed': 'STINT_END_TIME'}, inplace = True)\n",
    "    pbp_formatted = pbp_formatted.loc[pbp_formatted['STINT_END_TIME'].isin(breakpoints)]\n",
    "    \n",
    "    \n",
    "    pt_diff_df = pd.DataFrame(columns = ['STINT_START_TIME', 'STINT_END_TIME', 'PT_DIFF'])\n",
    "    \n",
    "    for i in range(len(breakpoints) - 1):\n",
    "        t = breakpoints[i]\n",
    "        t_plus_1 = breakpoints[i+1]\n",
    "    \n",
    "        temp = pbp_formatted.loc[(pbp_formatted['STINT_START_TIME'] >= t) & (pbp_formatted['STINT_END_TIME'] <= t_plus_1)]\n",
    "        res = pd.DataFrame(columns = ['STINT_START_TIME', 'STINT_END_TIME', 'PT_DIFF'])\n",
    "    \n",
    "        res.loc[0, 'STINT_START_TIME'] = t \n",
    "        res.loc[0, 'STINT_END_TIME'] = t_plus_1\n",
    "    \n",
    "        diff = 0\n",
    "    \n",
    "        if t == 0:\n",
    "            diff = np.max(temp['scoreHome']) - np.max(temp['scoreAway'])\n",
    "        \n",
    "        else:\n",
    "            end_home_score = temp.loc[(temp['STINT_END_TIME'] == t_plus_1) & (temp['actionType'].isin(['Substitution', 'period']))]['scoreHome'].values[0]\n",
    "            end_away_score = temp.loc[(temp['STINT_END_TIME'] == t_plus_1) & (temp['actionType'].isin(['Substitution', 'period']))]['scoreAway'].values[0]\n",
    "            # diff = (np.max(temp['scoreHome']) - np.min(temp['scoreHome'])) - (np.max(temp['scoreAway']) - np.min(temp['scoreAway']))\n",
    "            diff = (end_home_score - np.min(temp['scoreHome'])) - (end_away_score - np.min(temp['scoreAway']))\n",
    "        \n",
    "        res.loc[0, 'PT_DIFF'] = diff \n",
    "    \n",
    "        pt_diff_df = pd.concat([pt_diff_df, res], axis = 0)\n",
    "        pt_diff_df = pt_diff_df.reset_index(drop = True)\n",
    "    \n",
    "    return pt_diff_df"
   ]
  },
  {
   "cell_type": "code",
   "execution_count": null,
   "metadata": {
    "scrolled": true
   },
   "outputs": [],
   "source": [
    "pt_diff_df = get_stints_pt_diff('0022400061', breakpoints)\n",
    "pt_diff_df"
   ]
  },
  {
   "cell_type": "markdown",
   "metadata": {},
   "source": [
    "## PlayerID In-Time Out-Time"
   ]
  },
  {
   "cell_type": "code",
   "execution_count": null,
   "metadata": {},
   "outputs": [],
   "source": [
    "def get_player_id_in_out_time(rotation_df:pd.DataFrame):\n",
    "    players = list(set(rotation_df.PERSON_ID))\n",
    "\n",
    "    player_id_cols = ['PERSON_ID_'+str(p) for p in players]\n",
    "    player_flags_df = pd.get_dummies(rotation_df, columns = ['PERSON_ID'], dtype = int).copy()\n",
    "    player_flags_df = player_flags_df.groupby(['IN_TIME_REAL', 'OUT_TIME_REAL'])[player_id_cols].sum().reset_index()\n",
    "    return players, player_flags_df"
   ]
  },
  {
   "cell_type": "code",
   "execution_count": null,
   "metadata": {
    "scrolled": true
   },
   "outputs": [],
   "source": [
    "players, _ = get_player_id_in_out_time(rotation_df)\n",
    "players"
   ]
  },
  {
   "cell_type": "markdown",
   "metadata": {},
   "source": [
    "## Final Stint-wise Point Differential Function"
   ]
  },
  {
   "cell_type": "code",
   "execution_count": null,
   "metadata": {},
   "outputs": [],
   "source": [
    "def final_stint_pt_diff(players:list, breakpoints:list, rotation_df:pd.DataFrame, pt_diff_df:pd.DataFrame, game_id:str, season:str):\n",
    "    final_stints_df = pd.DataFrame(columns = ['SEASON', 'GAME_ID', 'STINT_START_TIME', 'STINT_END_TIME'] + players + ['PT_DIFF'])\n",
    "\n",
    "    for i in tqdm(range(len(breakpoints) - 1)):\n",
    "      t = breakpoints[i]\n",
    "      t_plus_1 = breakpoints[i+1]\n",
    "      stint_players = rotation_df.loc[(rotation_df['IN_TIME_REAL'] <= t) & (rotation_df['OUT_TIME_REAL'] > t)][['PERSON_ID']].values.flatten().tolist()\n",
    "      home_away_flgs = rotation_df.loc[(rotation_df['IN_TIME_REAL'] <= t) & (rotation_df['OUT_TIME_REAL'] > t)][['home_away_flg']].values.tolist()\n",
    "      # pt_diff = stints_df.loc[(stints_df['STINT_START_TIME_FIXED'] == t) & (stints_df['STINT_END_TIME'] == t_plus_1)]['PT_DIFF'].sum()\n",
    "      pt_diff = pt_diff_df.loc[(pt_diff_df['STINT_START_TIME'] == t) & (pt_diff_df['STINT_END_TIME'] == t_plus_1)]['PT_DIFF'].values[0]\n",
    "    \n",
    "      X = pd.DataFrame(columns = ['SEASON', 'GAME_ID', 'STINT_START_TIME', 'STINT_END_TIME'] + players + ['PT_DIFF'])\n",
    "      #Assign Season and GameID\n",
    "      X.loc[0, 'SEASON'] = season\n",
    "      X.loc[0, 'GAME_ID'] = game_id\n",
    "      X.loc[0, 'STINT_START_TIME'] = t\n",
    "      X.loc[0, 'STINT_END_TIME'] = t_plus_1\n",
    "      X.loc[0, 'PT_DIFF'] = pt_diff\n",
    "    \n",
    "      for player in players:\n",
    "        if player in stint_players:\n",
    "          if home_away_flgs[stint_players.index(player)] == 'H':\n",
    "            X.loc[0, player] = 1\n",
    "          else:\n",
    "            X.loc[0, player] = -1\n",
    "        else:\n",
    "          X.loc[0, player] = 0\n",
    "    \n",
    "      final_stints_df = pd.concat([final_stints_df, X], axis = 0)\n",
    "    \n",
    "    final_stints_df = final_stints_df.reset_index(drop = True)\n",
    "    return final_stints_df"
   ]
  },
  {
   "cell_type": "code",
   "execution_count": null,
   "metadata": {
    "scrolled": true
   },
   "outputs": [],
   "source": [
    "final_stint_pt_diff(players, breakpoints, rotation_df, pt_diff_df, '0022400061', '2024-25')"
   ]
  },
  {
   "cell_type": "markdown",
   "metadata": {},
   "source": [
    "## Process Game"
   ]
  },
  {
   "cell_type": "code",
   "execution_count": null,
   "metadata": {},
   "outputs": [],
   "source": [
    "def process_game(game_id: str, szn: int) -> pd.DataFrame:\n",
    "    \"\"\"Compute one game's stint-wise point differential dataframe.\"\"\"\n",
    "    # If you still need to throttle a bit to be polite to an API, uncomment:\n",
    "    # time.sleep(0.10)\n",
    "\n",
    "    rotation_df, breakpoints = get_rotation(game_id)                             # Get Rotation and Breakpoints\n",
    "    pt_diff_df = get_stints_pt_diff(game_id, breakpoints)                        # Get Point Differential for each Stint\n",
    "    players, _ = get_player_id_in_out_time(rotation_df)                          # Get List of Players\n",
    "    game_res_df = final_stint_pt_diff(players, breakpoints, rotation_df,\n",
    "                                      pt_diff_df, game_id, szn)                  # Final per-game DF\n",
    "    return game_res_df"
   ]
  },
  {
   "cell_type": "markdown",
   "metadata": {},
   "source": [
    "## Pulling All Functions together to Scrape for Multiple Games"
   ]
  },
  {
   "cell_type": "code",
   "execution_count": null,
   "metadata": {},
   "outputs": [],
   "source": [
    "final_df = pd.DataFrame(columns = ['SEASON', 'GAME_ID', 'STINT_START_TIME', 'STINT_END_TIME', 'PT_DIFF'])"
   ]
  },
  {
   "cell_type": "code",
   "execution_count": null,
   "metadata": {},
   "outputs": [],
   "source": [
    "SEASONS = ['2022-23', '2023-24', '2024-25']"
   ]
  },
  {
   "cell_type": "markdown",
   "metadata": {},
   "source": [
    "### Serial Processing"
   ]
  },
  {
   "cell_type": "code",
   "execution_count": null,
   "metadata": {
    "scrolled": true
   },
   "outputs": [],
   "source": [
    "# for szn in SEASONS:\n",
    "#     games, game_ids = gamelog_gameid(szn)\n",
    "\n",
    "#     print(f\"Now Running Season: {szn}\")\n",
    "\n",
    "#     for game_id in tqdm(game_ids):\n",
    "#         rotation_df, breakpoints = get_rotation(game_id) #Get Rotation and Breakpoints\n",
    "#         pt_diff_df = get_stints_pt_diff(game_id, breakpoints) #Get Point Differential for each Stint\n",
    "#         players, _ = get_player_id_in_out_time(rotation_df) #Get List of Players\n",
    "\n",
    "#         game_res_df = final_stint_pt_diff(players, breakpoints, rotation_df, pt_diff_df, game_id, szn) #Final Stint-Wise Point Differential for the Game with Player Flags\n",
    "\n",
    "#         final_df = pd.concat([final_df, game_res_df], axis = 0, ignore_index=True)\n",
    "\n",
    "\n",
    "#         time.sleep(1) #Sleep 1 second in between games\n",
    "\n",
    "#     time.sleep(5) #Sleep 5 Seconds in-between seasons"
   ]
  },
  {
   "cell_type": "markdown",
   "metadata": {},
   "source": [
    "### Parallel Processing"
   ]
  },
  {
   "cell_type": "code",
   "execution_count": null,
   "metadata": {
    "scrolled": true
   },
   "outputs": [],
   "source": [
    "import pandas as pd\n",
    "from concurrent.futures import ThreadPoolExecutor, as_completed\n",
    "from tqdm import tqdm\n",
    "import time\n",
    "import warnings\n",
    "warnings.filterwarnings(\"ignore\")\n",
    "\n",
    "# Tune this based on your API limits / machine\n",
    "MAX_WORKERS = 8\n",
    "\n",
    "final_df_list = []  # collect per-season concatenations here\n",
    "\n",
    "for szn in SEASONS:\n",
    "    print(f\"\\nNow Running Season: {szn}\")\n",
    "    _, game_ids = gamelog_gameid(szn)\n",
    "\n",
    "    season_frames = []\n",
    "    failures = []\n",
    "\n",
    "    # Parallelize over games in this season\n",
    "    with ThreadPoolExecutor(max_workers=MAX_WORKERS) as ex:\n",
    "        futures = {ex.submit(process_game, gid, szn): gid for gid in game_ids}\n",
    "\n",
    "        # Progress bar advances as futures complete (order-agnostic)\n",
    "        for fut in tqdm(as_completed(futures), total=len(futures), desc=f\"Season {szn}\"):\n",
    "            gid = futures[fut]\n",
    "            try:\n",
    "                season_frames.append(fut.result())\n",
    "            except Exception as e:\n",
    "                failures.append((gid, e))\n",
    "\n",
    "    # Concatenate once per season for speed\n",
    "    if season_frames:\n",
    "        season_df = pd.concat(season_frames, axis=0, ignore_index=True)\n",
    "        final_df_list.append(season_df)\n",
    "\n",
    "    if failures:\n",
    "        # You can log these and optionally retry\n",
    "        print(f\"[WARN] {len(failures)} games failed in {szn}. Examples:\")\n",
    "        for gid, err in failures[:5]:\n",
    "            print(f\"  - {gid}: {err}\")\n",
    "\n",
    "    # If you still want a short pause between seasons, keep this:\n",
    "    time.sleep(5)\n",
    "\n",
    "# Single concat at the very end\n",
    "final_df = pd.concat(final_df_list, axis=0, ignore_index=True)\n"
   ]
  }
 ],
 "metadata": {
  "colab": {
   "provenance": []
  },
  "kernelspec": {
   "display_name": "Python 3 (ipykernel)",
   "language": "python",
   "name": "python3"
  },
  "language_info": {
   "codemirror_mode": {
    "name": "ipython",
    "version": 3
   },
   "file_extension": ".py",
   "mimetype": "text/x-python",
   "name": "python",
   "nbconvert_exporter": "python",
   "pygments_lexer": "ipython3",
   "version": "3.12.4"
  }
 },
 "nbformat": 4,
 "nbformat_minor": 4
}
